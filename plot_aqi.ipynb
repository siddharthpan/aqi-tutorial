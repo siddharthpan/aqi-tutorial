{
 "cells": [
  {
   "cell_type": "code",
   "execution_count": 2,
   "id": "12195fbd-96b7-4e15-bd2f-b2f899486ebe",
   "metadata": {},
   "outputs": [],
   "source": [
    "import pandas as pd\n",
    "import matplotlib.pyplot as plt\n",
    "import os"
   ]
  },
  {
   "cell_type": "code",
   "execution_count": 8,
   "id": "943d64b8-b03c-44bd-b667-cae890e9940a",
   "metadata": {},
   "outputs": [],
   "source": [
    "cwd = os.getcwd()"
   ]
  },
  {
   "cell_type": "code",
   "execution_count": 11,
   "id": "4e8f1c7f-aa47-40ef-b1b3-af853f2fc06a",
   "metadata": {},
   "outputs": [],
   "source": [
    "dir_contents = os.listdir(f\"{cwd}/Data/aqi\")"
   ]
  },
  {
   "cell_type": "code",
   "execution_count": 12,
   "id": "ecdf2858-b31d-4e4b-b12c-b589c6acfebb",
   "metadata": {},
   "outputs": [
    {
     "data": {
      "text/plain": [
       "['aqi2015.csv',\n",
       " 'aqi2018.csv',\n",
       " 'aqi2017.csv',\n",
       " 'aqi2014.csv',\n",
       " 'aqi2016.csv',\n",
       " 'aqi2013.csv']"
      ]
     },
     "execution_count": 12,
     "metadata": {},
     "output_type": "execute_result"
    }
   ],
   "source": [
    "dir_contents"
   ]
  },
  {
   "cell_type": "code",
   "execution_count": 34,
   "id": "4a6efa55-4afa-469d-955a-7da98ec8c228",
   "metadata": {},
   "outputs": [],
   "source": [
    "def avg_data():\n",
    "    avg_list = list()\n",
    "    for file in dir_contents:\n",
    "        curr_file = f\"{cwd}/Data/aqi/{file}\"\n",
    "        temp_i=0\n",
    "        average=list()\n",
    "        print(curr_file)\n",
    "        for rows in pd.read_csv(curr_file):\n",
    "            print(rows.shape)\n",
    "#             add_var=0\n",
    "#             avg=0\n",
    "#             data=list()\n",
    "#             print(rows)\n",
    "#             df = pd.DataFrame(data, columns=rows)\n",
    "#             print(df)\n",
    "#             for index, row in df.iterrows():\n",
    "#                 data.append(row['PM2.5'])\n",
    "#             for i in data:\n",
    "#                 if type(i) in [float, int]:\n",
    "#                     add_var+=i\n",
    "#                 elif type(i) is str:\n",
    "#                     if i!=\"NoData\" and i!=\"PwrFail\" and i!=\"---\" and i!=\"InVld\":\n",
    "#                         temp=float(i)\n",
    "#                         add_var=add_var+temp\n",
    "#             avg=add_var/24\n",
    "#             temp_i+=1\n",
    "            \n",
    "#             average.append(avg)\n",
    "#         avg_list.append(avg)\n",
    "#     return avg_list\n",
    "    return"
   ]
  },
  {
   "cell_type": "code",
   "execution_count": 35,
   "id": "12c71e52-3605-4c82-a74c-1fd1f3a04f65",
   "metadata": {},
   "outputs": [
    {
     "name": "stdout",
     "output_type": "stream",
     "text": [
      "/home/siddharthpan/Projects/Sid/ML/AQI/Data/aqi/aqi2015.csv\n"
     ]
    },
    {
     "ename": "AttributeError",
     "evalue": "'str' object has no attribute 'shape'",
     "output_type": "error",
     "traceback": [
      "\u001b[0;31m---------------------------------------------------------------------------\u001b[0m",
      "\u001b[0;31mAttributeError\u001b[0m                            Traceback (most recent call last)",
      "\u001b[0;32m<ipython-input-35-69b79ec6ad72>\u001b[0m in \u001b[0;36m<module>\u001b[0;34m\u001b[0m\n\u001b[0;32m----> 1\u001b[0;31m \u001b[0mavg_data\u001b[0m\u001b[0;34m(\u001b[0m\u001b[0;34m)\u001b[0m\u001b[0;34m\u001b[0m\u001b[0;34m\u001b[0m\u001b[0m\n\u001b[0m",
      "\u001b[0;32m<ipython-input-34-be6b362e58a1>\u001b[0m in \u001b[0;36mavg_data\u001b[0;34m()\u001b[0m\n\u001b[1;32m      7\u001b[0m         \u001b[0mprint\u001b[0m\u001b[0;34m(\u001b[0m\u001b[0mcurr_file\u001b[0m\u001b[0;34m)\u001b[0m\u001b[0;34m\u001b[0m\u001b[0;34m\u001b[0m\u001b[0m\n\u001b[1;32m      8\u001b[0m         \u001b[0;32mfor\u001b[0m \u001b[0mrows\u001b[0m \u001b[0;32min\u001b[0m \u001b[0mpd\u001b[0m\u001b[0;34m.\u001b[0m\u001b[0mread_csv\u001b[0m\u001b[0;34m(\u001b[0m\u001b[0mcurr_file\u001b[0m\u001b[0;34m)\u001b[0m\u001b[0;34m:\u001b[0m\u001b[0;34m\u001b[0m\u001b[0;34m\u001b[0m\u001b[0m\n\u001b[0;32m----> 9\u001b[0;31m             \u001b[0mprint\u001b[0m\u001b[0;34m(\u001b[0m\u001b[0mrows\u001b[0m\u001b[0;34m.\u001b[0m\u001b[0mshape\u001b[0m\u001b[0;34m)\u001b[0m\u001b[0;34m\u001b[0m\u001b[0;34m\u001b[0m\u001b[0m\n\u001b[0m\u001b[1;32m     10\u001b[0m \u001b[0;31m#             add_var=0\u001b[0m\u001b[0;34m\u001b[0m\u001b[0;34m\u001b[0m\u001b[0;34m\u001b[0m\u001b[0m\n\u001b[1;32m     11\u001b[0m \u001b[0;31m#             avg=0\u001b[0m\u001b[0;34m\u001b[0m\u001b[0;34m\u001b[0m\u001b[0;34m\u001b[0m\u001b[0m\n",
      "\u001b[0;31mAttributeError\u001b[0m: 'str' object has no attribute 'shape'"
     ]
    }
   ],
   "source": [
    "avg_data()"
   ]
  }
 ],
 "metadata": {
  "kernelspec": {
   "display_name": "Python 3",
   "language": "python",
   "name": "python3"
  },
  "language_info": {
   "codemirror_mode": {
    "name": "ipython",
    "version": 3
   },
   "file_extension": ".py",
   "mimetype": "text/x-python",
   "name": "python",
   "nbconvert_exporter": "python",
   "pygments_lexer": "ipython3",
   "version": "3.8.8"
  }
 },
 "nbformat": 4,
 "nbformat_minor": 5
}
