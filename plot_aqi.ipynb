{
 "cells": [
  {
   "cell_type": "code",
   "execution_count": 2,
   "id": "12195fbd-96b7-4e15-bd2f-b2f899486ebe",
   "metadata": {},
   "outputs": [],
   "source": [
    "import pandas as pd\n",
    "import matplotlib.pyplot as plt\n",
    "import os"
   ]
  },
  {
   "cell_type": "code",
   "execution_count": 8,
   "id": "943d64b8-b03c-44bd-b667-cae890e9940a",
   "metadata": {},
   "outputs": [],
   "source": [
    "cwd = os.getcwd()"
   ]
  },
  {
   "cell_type": "code",
   "execution_count": 11,
   "id": "4e8f1c7f-aa47-40ef-b1b3-af853f2fc06a",
   "metadata": {},
   "outputs": [],
   "source": [
    "dir_contents = os.listdir(f\"{cwd}/Data/aqi\")"
   ]
  },
  {
   "cell_type": "code",
   "execution_count": 12,
   "id": "ecdf2858-b31d-4e4b-b12c-b589c6acfebb",
   "metadata": {},
   "outputs": [
    {
     "data": {
      "text/plain": [
       "['aqi2015.csv',\n",
       " 'aqi2018.csv',\n",
       " 'aqi2017.csv',\n",
       " 'aqi2014.csv',\n",
       " 'aqi2016.csv',\n",
       " 'aqi2013.csv']"
      ]
     },
     "execution_count": 12,
     "metadata": {},
     "output_type": "execute_result"
    }
   ],
   "source": [
    "dir_contents"
   ]
  },
  {
   "cell_type": "code",
   "execution_count": null,
   "id": "4a6efa55-4afa-469d-955a-7da98ec8c228",
   "metadata": {},
   "outputs": [],
   "source": [
    "def avg_data():\n",
    "    avg_list = list()\n",
    "    for file in dir_contents:\n",
    "        curr_file = f\"{cwd}/Data/aqi/{file}\"\n",
    "        temp_i=0\n",
    "        average=list()\n",
    "        for rows in pd.read_csv(curr_file):\n",
    "            "
   ]
  }
 ],
 "metadata": {
  "kernelspec": {
   "display_name": "Python 3",
   "language": "python",
   "name": "python3"
  },
  "language_info": {
   "codemirror_mode": {
    "name": "ipython",
    "version": 3
   },
   "file_extension": ".py",
   "mimetype": "text/x-python",
   "name": "python",
   "nbconvert_exporter": "python",
   "pygments_lexer": "ipython3",
   "version": "3.8.8"
  }
 },
 "nbformat": 4,
 "nbformat_minor": 5
}
